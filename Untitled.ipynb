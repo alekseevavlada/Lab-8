{
 "cells": [
  {
   "cell_type": "code",
   "execution_count": 3,
   "id": "01a97d31",
   "metadata": {},
   "outputs": [],
   "source": [
    "import dlib \n",
    "import cv2\n",
    "import os\n",
    "import numpy as np"
   ]
  },
  {
   "cell_type": "code",
   "execution_count": null,
   "id": "4d332280",
   "metadata": {},
   "outputs": [],
   "source": [
    "model_detector = dlib.simple_object_detector(\"tld.swm\")\n",
    "font = cv2.FONT_HERSHEY_COMPLEX\n",
    "cap = cv2.VideoCapture(0)\n",
    "img = cv2.imread('fly64.png')\n",
    "img = cv2.resize(img, (20, 20))\n",
    "img_height, img_width, _ = img.shape \n",
    "\n",
    "while True:\n",
    "    ret, frame = cap.read()\n",
    "    \n",
    "    all = model_detector(frame)\n",
    "    for square in all:\n",
    "        x = square.left()\n",
    "        y = square.top()\n",
    "        w = square.right()\n",
    "        h = square.bottom()\n",
    "        cv2.rectangle(frame, (x, y), (w + x, h + y), (255, 0, 0), 1)\n",
    "        center = ((int((x + w) / 2)), (int((y + h) / 2)))\n",
    "        x_center = center[0]\n",
    "        y_center = center[1]\n",
    "        string = str(x_center) + \" \" + str(y_center)\n",
    "        cv2.circle(frame, center, 5, (255, 0, 0), 2)\n",
    "        if x_center < 450 and y_center < 300:\n",
    "            cv2.putText(frame, string, center, font, 0.5, (200, 0, 0))\n",
    "          \n",
    "            \n",
    "            \n",
    "    cv2.imshow('frame', frame)\n",
    "            \n",
    "    if cv2.waitKey(1) & 0xFF == ord('q'):\n",
    "            \n",
    "        break\n",
    "\n",
    "cap.release()\n",
    "cv2.waitKey(0)\n",
    "cv2.destroyAllWindows()"
   ]
  },
  {
   "cell_type": "code",
   "execution_count": 2,
   "id": "17df0f80",
   "metadata": {
    "scrolled": false
   },
   "outputs": [
    {
     "ename": "FileNotFoundError",
     "evalue": "[Errno 2] No such file or directory: 'patterns/images'",
     "output_type": "error",
     "traceback": [
      "\u001b[0;31m---------------------------------------------------------------------------\u001b[0m",
      "\u001b[0;31mFileNotFoundError\u001b[0m                         Traceback (most recent call last)",
      "Cell \u001b[0;32mIn[2], line 5\u001b[0m\n\u001b[1;32m      2\u001b[0m images\u001b[38;5;241m=\u001b[39m[]\n\u001b[1;32m      3\u001b[0m annots\u001b[38;5;241m=\u001b[39m[]\n\u001b[0;32m----> 5\u001b[0m imgNameList \u001b[38;5;241m=\u001b[39m \u001b[43mos\u001b[49m\u001b[38;5;241;43m.\u001b[39;49m\u001b[43mlistdir\u001b[49m\u001b[43m(\u001b[49m\u001b[38;5;28;43mdir\u001b[39;49m\u001b[43m \u001b[49m\u001b[38;5;241;43m+\u001b[39;49m\u001b[43m \u001b[49m\u001b[38;5;124;43m\"\u001b[39;49m\u001b[38;5;124;43m/images\u001b[39;49m\u001b[38;5;124;43m\"\u001b[39;49m\u001b[43m)\u001b[49m\n\u001b[1;32m      7\u001b[0m \u001b[38;5;28mprint\u001b[39m(imgNameList)\n\u001b[1;32m      9\u001b[0m \u001b[38;5;28;01mfor\u001b[39;00m FileName \u001b[38;5;129;01min\u001b[39;00m imgNameList:\n",
      "\u001b[0;31mFileNotFoundError\u001b[0m: [Errno 2] No such file or directory: 'patterns/images'"
     ]
    }
   ],
   "source": [
    "dir=r\"patterns\" \n",
    "images=[]\n",
    "annots=[]\n",
    "\n",
    "imgNameList = os.listdir(dir + \"/images\")\n",
    "\n",
    "print(imgNameList)\n",
    "\n",
    "for FileName in imgNameList:\n",
    "    image = cv2.imread(dir + \"/images/\" + FileName)\n",
    "    image = cv2.cvtColor(image, cv2.COLOR_BGR2RGB)\n",
    "    \n",
    "    OnlyFileName = FileName.split(\".\")[0]  \n",
    "    print(OnlyFileName)\n",
    "    e = pars.parse(dir + \"/annotations/\" + OnlyFileName + \".xml\")\n",
    "    root = e.getroot()\n",
    "    object = root.find(\"object\")\n",
    "    object = object.find(\"bndbox\")\n",
    "    x = int(object.find(\"xmin\").text)\n",
    "    y = int(object.find(\"ymin\").text)\n",
    "    w = int(object.find(\"xmax\").text)\n",
    "    h = int(object.find(\"ymax\").text)\n",
    "    \n",
    "    images.append(image)\n",
    "    annots.append([dlib.rectangle(left=x, top=y, right=w,bottom=h)])\n",
    "    \n",
    "options = dlib.simple_object_detector_training_options()\n",
    "options.be_verbose=True\n",
    "\n",
    "detector = dlib.train_simple_object_detector(images,annots,options)\n",
    "\n",
    "detector.save(\"tld.swm\")    \n",
    "print(\"Detector saved\")"
   ]
  }
 ],
 "metadata": {
  "kernelspec": {
   "display_name": "Python 3 (ipykernel)",
   "language": "python",
   "name": "python3"
  },
  "language_info": {
   "codemirror_mode": {
    "name": "ipython",
    "version": 3
   },
   "file_extension": ".py",
   "mimetype": "text/x-python",
   "name": "python",
   "nbconvert_exporter": "python",
   "pygments_lexer": "ipython3",
   "version": "3.10.9"
  }
 },
 "nbformat": 4,
 "nbformat_minor": 5
}
